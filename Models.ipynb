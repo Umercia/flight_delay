{
 "cells": [
  {
   "cell_type": "markdown",
   "metadata": {},
   "source": [
    "# Flight delay prediction\n",
    "## 2. Models\n",
    "\n"
   ]
  },
  {
   "cell_type": "code",
   "execution_count": 1,
   "metadata": {},
   "outputs": [],
   "source": [
    "import pandas as pd"
   ]
  },
  {
   "cell_type": "code",
   "execution_count": 2,
   "metadata": {},
   "outputs": [
    {
     "name": "stderr",
     "output_type": "stream",
     "text": [
      "C:\\Users\\ben\\Anaconda3\\lib\\site-packages\\numpy\\lib\\arraysetops.py:522: FutureWarning: elementwise comparison failed; returning scalar instead, but in the future will perform elementwise comparison\n",
      "  mask |= (ar1 == a)\n"
     ]
    }
   ],
   "source": [
    "df = pd.read_csv(\"flight_model_var.csv\", header = 0, index_col= 0)"
   ]
  },
  {
   "cell_type": "markdown",
   "metadata": {},
   "source": [
    "## 2.1 splitting data train/test set"
   ]
  },
  {
   "cell_type": "code",
   "execution_count": 3,
   "metadata": {},
   "outputs": [],
   "source": [
    "# Splitting X and y into training and testing sets\n",
    "from sklearn.model_selection import train_test_split\n",
    "\n",
    "y = df.loc[:,\"ARR_DELAY\"]\n",
    "X = df.drop(\"ARR_DELAY\", axis = 1)\n",
    "X_train, X_test, y_train, y_test = train_test_split(X, y, random_state=1)"
   ]
  },
  {
   "cell_type": "code",
   "execution_count": 4,
   "metadata": {},
   "outputs": [
    {
     "data": {
      "text/html": [
       "<div>\n",
       "<style scoped>\n",
       "    .dataframe tbody tr th:only-of-type {\n",
       "        vertical-align: middle;\n",
       "    }\n",
       "\n",
       "    .dataframe tbody tr th {\n",
       "        vertical-align: top;\n",
       "    }\n",
       "\n",
       "    .dataframe thead th {\n",
       "        text-align: right;\n",
       "    }\n",
       "</style>\n",
       "<table border=\"1\" class=\"dataframe\">\n",
       "  <thead>\n",
       "    <tr style=\"text-align: right;\">\n",
       "      <th></th>\n",
       "      <th>HOURS</th>\n",
       "      <th>AA</th>\n",
       "      <th>AS</th>\n",
       "      <th>B6</th>\n",
       "      <th>DL</th>\n",
       "      <th>EV</th>\n",
       "      <th>F9</th>\n",
       "      <th>HA</th>\n",
       "      <th>NK</th>\n",
       "      <th>OO</th>\n",
       "      <th>...</th>\n",
       "      <th>Summer</th>\n",
       "      <th>Winter</th>\n",
       "      <th>Friday</th>\n",
       "      <th>Monday</th>\n",
       "      <th>Saturday</th>\n",
       "      <th>Sunday</th>\n",
       "      <th>Thursday</th>\n",
       "      <th>Tuesday</th>\n",
       "      <th>Wednesday</th>\n",
       "      <th>Big_Airport</th>\n",
       "    </tr>\n",
       "  </thead>\n",
       "  <tbody>\n",
       "    <tr>\n",
       "      <th>2028236</th>\n",
       "      <td>14.0</td>\n",
       "      <td>0</td>\n",
       "      <td>0</td>\n",
       "      <td>0</td>\n",
       "      <td>1</td>\n",
       "      <td>0</td>\n",
       "      <td>0</td>\n",
       "      <td>0</td>\n",
       "      <td>0</td>\n",
       "      <td>0</td>\n",
       "      <td>...</td>\n",
       "      <td>0</td>\n",
       "      <td>0</td>\n",
       "      <td>0</td>\n",
       "      <td>0</td>\n",
       "      <td>0</td>\n",
       "      <td>0</td>\n",
       "      <td>0</td>\n",
       "      <td>0</td>\n",
       "      <td>1</td>\n",
       "      <td>1</td>\n",
       "    </tr>\n",
       "    <tr>\n",
       "      <th>2728262</th>\n",
       "      <td>9.0</td>\n",
       "      <td>1</td>\n",
       "      <td>0</td>\n",
       "      <td>0</td>\n",
       "      <td>0</td>\n",
       "      <td>0</td>\n",
       "      <td>0</td>\n",
       "      <td>0</td>\n",
       "      <td>0</td>\n",
       "      <td>0</td>\n",
       "      <td>...</td>\n",
       "      <td>0</td>\n",
       "      <td>0</td>\n",
       "      <td>1</td>\n",
       "      <td>0</td>\n",
       "      <td>0</td>\n",
       "      <td>0</td>\n",
       "      <td>0</td>\n",
       "      <td>0</td>\n",
       "      <td>0</td>\n",
       "      <td>0</td>\n",
       "    </tr>\n",
       "    <tr>\n",
       "      <th>4828419</th>\n",
       "      <td>12.0</td>\n",
       "      <td>1</td>\n",
       "      <td>0</td>\n",
       "      <td>0</td>\n",
       "      <td>0</td>\n",
       "      <td>0</td>\n",
       "      <td>0</td>\n",
       "      <td>0</td>\n",
       "      <td>0</td>\n",
       "      <td>0</td>\n",
       "      <td>...</td>\n",
       "      <td>0</td>\n",
       "      <td>0</td>\n",
       "      <td>0</td>\n",
       "      <td>0</td>\n",
       "      <td>0</td>\n",
       "      <td>1</td>\n",
       "      <td>0</td>\n",
       "      <td>0</td>\n",
       "      <td>0</td>\n",
       "      <td>1</td>\n",
       "    </tr>\n",
       "    <tr>\n",
       "      <th>4662754</th>\n",
       "      <td>18.0</td>\n",
       "      <td>0</td>\n",
       "      <td>0</td>\n",
       "      <td>1</td>\n",
       "      <td>0</td>\n",
       "      <td>0</td>\n",
       "      <td>0</td>\n",
       "      <td>0</td>\n",
       "      <td>0</td>\n",
       "      <td>0</td>\n",
       "      <td>...</td>\n",
       "      <td>1</td>\n",
       "      <td>0</td>\n",
       "      <td>1</td>\n",
       "      <td>0</td>\n",
       "      <td>0</td>\n",
       "      <td>0</td>\n",
       "      <td>0</td>\n",
       "      <td>0</td>\n",
       "      <td>0</td>\n",
       "      <td>1</td>\n",
       "    </tr>\n",
       "    <tr>\n",
       "      <th>3217764</th>\n",
       "      <td>11.0</td>\n",
       "      <td>1</td>\n",
       "      <td>0</td>\n",
       "      <td>0</td>\n",
       "      <td>0</td>\n",
       "      <td>0</td>\n",
       "      <td>0</td>\n",
       "      <td>0</td>\n",
       "      <td>0</td>\n",
       "      <td>0</td>\n",
       "      <td>...</td>\n",
       "      <td>1</td>\n",
       "      <td>0</td>\n",
       "      <td>1</td>\n",
       "      <td>0</td>\n",
       "      <td>0</td>\n",
       "      <td>0</td>\n",
       "      <td>0</td>\n",
       "      <td>0</td>\n",
       "      <td>0</td>\n",
       "      <td>1</td>\n",
       "    </tr>\n",
       "  </tbody>\n",
       "</table>\n",
       "<p>5 rows × 25 columns</p>\n",
       "</div>"
      ],
      "text/plain": [
       "         HOURS  AA  AS  B6  DL  EV  F9  HA  NK  OO     ...       Summer  \\\n",
       "2028236   14.0   0   0   0   1   0   0   0   0   0     ...            0   \n",
       "2728262    9.0   1   0   0   0   0   0   0   0   0     ...            0   \n",
       "4828419   12.0   1   0   0   0   0   0   0   0   0     ...            0   \n",
       "4662754   18.0   0   0   1   0   0   0   0   0   0     ...            1   \n",
       "3217764   11.0   1   0   0   0   0   0   0   0   0     ...            1   \n",
       "\n",
       "         Winter  Friday  Monday  Saturday  Sunday  Thursday  Tuesday  \\\n",
       "2028236       0       0       0         0       0         0        0   \n",
       "2728262       0       1       0         0       0         0        0   \n",
       "4828419       0       0       0         0       1         0        0   \n",
       "4662754       0       1       0         0       0         0        0   \n",
       "3217764       0       1       0         0       0         0        0   \n",
       "\n",
       "         Wednesday  Big_Airport  \n",
       "2028236          1            1  \n",
       "2728262          0            0  \n",
       "4828419          0            1  \n",
       "4662754          0            1  \n",
       "3217764          0            1  \n",
       "\n",
       "[5 rows x 25 columns]"
      ]
     },
     "execution_count": 4,
     "metadata": {},
     "output_type": "execute_result"
    }
   ],
   "source": [
    "X_train.head()"
   ]
  },
  {
   "cell_type": "markdown",
   "metadata": {},
   "source": [
    "## 2.2 Simple linear regresion"
   ]
  },
  {
   "cell_type": "code",
   "execution_count": 5,
   "metadata": {},
   "outputs": [],
   "source": [
    "# import model\n",
    "from sklearn.linear_model import LinearRegression\n",
    "import numpy as np\n",
    "import matplotlib.pyplot as plt\n",
    "import seaborn as sns\n",
    "from sklearn import metrics\n",
    "from sklearn.model_selection import cross_val_score"
   ]
  },
  {
   "cell_type": "markdown",
   "metadata": {},
   "source": [
    "We will build 3 linear models with different set of features:  \n",
    "1. model \"hsd\" with temporal features: hours, seasons and days of the week\n",
    "2. model \"ca\" with with informative features: carrier and airport \n",
    "3. model \"all\" with with all features  \n",
    "Note that we can remove some dummy features: season and one day of the week since the information is indirectly already present in the rest (for example if spring, summer and Autumn = 0 then by deduction it means winter = 1).\n",
    "We reduce the number of features by removing \"Winter\" and \"Monday\", \"AA\". This mean that the coefficient of the linear model will be relatif to the \"reference\" case: \"AA\", \"Winter\", \"Monday\".\n",
    "we will then assess the model performances by using the Root mean square error (RMSE). To asssess the out of sample RMSE, we will use Kfold validation. We use 5 folds rather than 10 just for computing time reduction."
   ]
  },
  {
   "cell_type": "code",
   "execution_count": 6,
   "metadata": {},
   "outputs": [],
   "source": [
    "# Temporal features (_hsd)\n",
    "X_hsd_train = X_train.loc[:,('HOURS', 'Spring', 'Summer', 'Autumn','Tuesday', \n",
    "                             'Wednesday', 'Thursday', 'Friday', 'Saturday', 'Sunday')]\n",
    "X_hsd_test = X_test.loc[:,('HOURS','Spring', 'Summer', 'Autumn','Tuesday', \n",
    "                           'Wednesday', 'Thursday', 'Friday', 'Saturday', 'Sunday')]\n",
    "linreg_hsd = LinearRegression()\n",
    "scores_hsd = cross_val_score(linreg_hsd, X_hsd_train, y_train, cv=5, scoring='neg_mean_squared_error')"
   ]
  },
  {
   "cell_type": "code",
   "execution_count": 7,
   "metadata": {},
   "outputs": [],
   "source": [
    "# informative features (_ca)\n",
    "X_ca_train = X_train.loc[:,('AS', 'B6', 'DL', 'EV', 'F9', 'HA', 'NK', 'OO', 'UA', 'VX', 'WN','Big_Airport')]   ## Winter not here it will be the reference\n",
    "X_ca_test = X_test.loc[:,('AS', 'B6', 'DL', 'EV', 'F9', 'HA', 'NK', 'OO', 'UA', 'VX', 'WN','Big_Airport')]\n",
    "linreg_ca = LinearRegression()\n",
    "scores_ca = cross_val_score(linreg_ca, X_ca_train, y_train, cv=5, scoring='neg_mean_squared_error')"
   ]
  },
  {
   "cell_type": "code",
   "execution_count": 8,
   "metadata": {},
   "outputs": [],
   "source": [
    "# All features (_all)\n",
    "X_all_train = X_train.loc[:,\"HOURS\":\"Big_Airport\"]   ## Winter not here it will be the reference\n",
    "X_all_test = X_test.loc[:,\"HOURS\":\"Big_Airport\"]\n",
    "X_all_train = X_all_train.drop([\"Winter\", \"Monday\",\"AA\"], axis = 1)\n",
    "X_all_test = X_all_test.drop([\"Winter\", \"Monday\",\"AA\"], axis = 1)\n",
    "linreg_all = LinearRegression()\n",
    "scores_all = cross_val_score(linreg_all, X_all_train, y_train, cv=5, scoring='neg_mean_squared_error')"
   ]
  },
  {
   "cell_type": "code",
   "execution_count": 9,
   "metadata": {
    "scrolled": true
   },
   "outputs": [
    {
     "name": "stdout",
     "output_type": "stream",
     "text": [
      "Input features:\t\t\t hsd \t ca \t all\n",
      "Root Mean Squared Error (RMSE):\t 18.44 \t 18.6 \t 18.38\n"
     ]
    }
   ],
   "source": [
    "print(\"Input features:\\t\\t\\t hsd \\t ca \\t all\")\n",
    "print(\"Root Mean Squared Error (RMSE):\\t\",round(((-scores_hsd)**0.5).mean(),2),\"\\t\",\n",
    "                                          round(((-scores_ca)**0.5).mean(),2),\"\\t\",\n",
    "                                          round(((-scores_all)**0.5).mean(),2))"
   ]
  },
  {
   "cell_type": "markdown",
   "metadata": {},
   "source": [
    "Lowest RMSE for using all features. However the differences are quite small. "
   ]
  },
  {
   "cell_type": "code",
   "execution_count": 10,
   "metadata": {},
   "outputs": [],
   "source": [
    "del X_ca_train, X_hsd_test, X_hsd_train, X_ca_test"
   ]
  },
  {
   "cell_type": "code",
   "execution_count": 11,
   "metadata": {},
   "outputs": [
    {
     "data": {
      "text/plain": [
       "LinearRegression(copy_X=True, fit_intercept=True, n_jobs=None,\n",
       "         normalize=False)"
      ]
     },
     "execution_count": 11,
     "metadata": {},
     "output_type": "execute_result"
    }
   ],
   "source": [
    "linreg_all.fit(X_all_train, y_train)"
   ]
  },
  {
   "cell_type": "code",
   "execution_count": 12,
   "metadata": {
    "scrolled": false
   },
   "outputs": [
    {
     "data": {
      "text/html": [
       "<div>\n",
       "<style scoped>\n",
       "    .dataframe tbody tr th:only-of-type {\n",
       "        vertical-align: middle;\n",
       "    }\n",
       "\n",
       "    .dataframe tbody tr th {\n",
       "        vertical-align: top;\n",
       "    }\n",
       "\n",
       "    .dataframe thead th {\n",
       "        text-align: right;\n",
       "    }\n",
       "</style>\n",
       "<table border=\"1\" class=\"dataframe\">\n",
       "  <thead>\n",
       "    <tr style=\"text-align: right;\">\n",
       "      <th></th>\n",
       "      <th>features</th>\n",
       "      <th>relative_delay</th>\n",
       "    </tr>\n",
       "  </thead>\n",
       "  <tbody>\n",
       "    <tr>\n",
       "      <th>7</th>\n",
       "      <td>NK</td>\n",
       "      <td>2.118732</td>\n",
       "    </tr>\n",
       "    <tr>\n",
       "      <th>2</th>\n",
       "      <td>B6</td>\n",
       "      <td>1.864575</td>\n",
       "    </tr>\n",
       "    <tr>\n",
       "      <th>14</th>\n",
       "      <td>Summer</td>\n",
       "      <td>1.835227</td>\n",
       "    </tr>\n",
       "    <tr>\n",
       "      <th>10</th>\n",
       "      <td>VX</td>\n",
       "      <td>1.545854</td>\n",
       "    </tr>\n",
       "    <tr>\n",
       "      <th>5</th>\n",
       "      <td>F9</td>\n",
       "      <td>0.931156</td>\n",
       "    </tr>\n",
       "    <tr>\n",
       "      <th>18</th>\n",
       "      <td>Thursday</td>\n",
       "      <td>0.851128</td>\n",
       "    </tr>\n",
       "    <tr>\n",
       "      <th>15</th>\n",
       "      <td>Friday</td>\n",
       "      <td>0.842028</td>\n",
       "    </tr>\n",
       "    <tr>\n",
       "      <th>21</th>\n",
       "      <td>Big_Airport</td>\n",
       "      <td>0.837158</td>\n",
       "    </tr>\n",
       "    <tr>\n",
       "      <th>0</th>\n",
       "      <td>HOURS</td>\n",
       "      <td>0.502790</td>\n",
       "    </tr>\n",
       "    <tr>\n",
       "      <th>4</th>\n",
       "      <td>EV</td>\n",
       "      <td>-0.314812</td>\n",
       "    </tr>\n",
       "    <tr>\n",
       "      <th>17</th>\n",
       "      <td>Sunday</td>\n",
       "      <td>-0.316755</td>\n",
       "    </tr>\n",
       "    <tr>\n",
       "      <th>19</th>\n",
       "      <td>Tuesday</td>\n",
       "      <td>-0.592782</td>\n",
       "    </tr>\n",
       "    <tr>\n",
       "      <th>11</th>\n",
       "      <td>WN</td>\n",
       "      <td>-0.725967</td>\n",
       "    </tr>\n",
       "    <tr>\n",
       "      <th>20</th>\n",
       "      <td>Wednesday</td>\n",
       "      <td>-0.771908</td>\n",
       "    </tr>\n",
       "    <tr>\n",
       "      <th>13</th>\n",
       "      <td>Spring</td>\n",
       "      <td>-0.827430</td>\n",
       "    </tr>\n",
       "    <tr>\n",
       "      <th>9</th>\n",
       "      <td>UA</td>\n",
       "      <td>-0.935091</td>\n",
       "    </tr>\n",
       "    <tr>\n",
       "      <th>16</th>\n",
       "      <td>Saturday</td>\n",
       "      <td>-1.087101</td>\n",
       "    </tr>\n",
       "    <tr>\n",
       "      <th>8</th>\n",
       "      <td>OO</td>\n",
       "      <td>-1.123385</td>\n",
       "    </tr>\n",
       "    <tr>\n",
       "      <th>12</th>\n",
       "      <td>Autumn</td>\n",
       "      <td>-1.863791</td>\n",
       "    </tr>\n",
       "    <tr>\n",
       "      <th>3</th>\n",
       "      <td>DL</td>\n",
       "      <td>-3.165346</td>\n",
       "    </tr>\n",
       "    <tr>\n",
       "      <th>1</th>\n",
       "      <td>AS</td>\n",
       "      <td>-3.313182</td>\n",
       "    </tr>\n",
       "    <tr>\n",
       "      <th>6</th>\n",
       "      <td>HA</td>\n",
       "      <td>-4.149599</td>\n",
       "    </tr>\n",
       "  </tbody>\n",
       "</table>\n",
       "</div>"
      ],
      "text/plain": [
       "       features  relative_delay\n",
       "7            NK        2.118732\n",
       "2            B6        1.864575\n",
       "14       Summer        1.835227\n",
       "10           VX        1.545854\n",
       "5            F9        0.931156\n",
       "18     Thursday        0.851128\n",
       "15       Friday        0.842028\n",
       "21  Big_Airport        0.837158\n",
       "0         HOURS        0.502790\n",
       "4            EV       -0.314812\n",
       "17       Sunday       -0.316755\n",
       "19      Tuesday       -0.592782\n",
       "11           WN       -0.725967\n",
       "20    Wednesday       -0.771908\n",
       "13       Spring       -0.827430\n",
       "9            UA       -0.935091\n",
       "16     Saturday       -1.087101\n",
       "8            OO       -1.123385\n",
       "12       Autumn       -1.863791\n",
       "3            DL       -3.165346\n",
       "1            AS       -3.313182\n",
       "6            HA       -4.149599"
      ]
     },
     "execution_count": 12,
     "metadata": {},
     "output_type": "execute_result"
    }
   ],
   "source": [
    "# coef interpretations\n",
    "feature_names = X_all_train.columns.values\n",
    "f = list(zip(feature_names, linreg_all.coef_))\n",
    "feat_df = pd.DataFrame(f,columns= (\"features\",\"relative_delay\"))\n",
    "feat_df.sort_values(by = \"relative_delay\", ascending= False)"
   ]
  },
  {
   "cell_type": "markdown",
   "metadata": {},
   "source": [
    "From our model, it seems features with bigest weight on delay are \"summer\" and  \"NK, B6, VX\" companies. On the other hand, \"HA\", \"DL\", \"AS\" and \"Saturday\" are the ones that minimize the delay.\n",
    "since Hours can have values from 5 to 23 (others features are just 0 or 1), the variation can actually go from 0 to 18*0.427 ~ 7.5. So hours have also a big influence."
   ]
  },
  {
   "cell_type": "code",
   "execution_count": 14,
   "metadata": {
    "scrolled": false
   },
   "outputs": [
    {
     "data": {
      "image/png": "[encoded data removed]",
      "text/plain": [
       "<Figure size 1008x432 with 2 Axes>"
      ]
     },
     "metadata": {
      "needs_background": "light"
     },
     "output_type": "display_data"
    }
   ],
   "source": [
    "# vizualise the regression line on \"HOURS\"\n",
    "plt.figure(figsize=(14,6))\n",
    "\n",
    "plt.subplot(1,2,1)\n",
    "samp = df.sample(300)\n",
    "plt.title(\"Delay versus Hours\", fontweight=\"bold\", size = 18)\n",
    "plt.scatter(x=\"HOURS\", y=\"ARR_DELAY\", data=samp, alpha = 0.5)   #, order = top2bot)\n",
    "u = np.linspace(0,22,5)\n",
    "plt.plot(u,u*linreg_all.coef_[0]+linreg_all.intercept_, c=\"red\", label=\"linear fit\")\n",
    "plt.ylim(0,30)\n",
    "plt.xlim(5,23)\n",
    "\n",
    "\n",
    "plt.subplot(1,2,2)\n",
    "plt.title(\"Delay versus Hours\", fontweight=\"bold\", size = 18)\n",
    "sns.boxplot(x=\"HOURS\", y=\"ARR_DELAY\", data=df,showmeans=True, whis=\"range\")   #, order = top2bot\n",
    "plt.ylim(0,30)\n",
    "plt.plot(u,(u+5)*linreg_all.coef_[0]+linreg_all.intercept_, c=\"red\", label=\"linear fit\")\n",
    "\n",
    "plt.show()"
   ]
  },
  {
   "cell_type": "markdown",
   "metadata": {},
   "source": [
    "In the followinf section we will integrate a polynomial feature (second order) on \"HOURS\" to see if we can improve the model."
   ]
  },
  {
   "cell_type": "code",
   "execution_count": 15,
   "metadata": {
    "scrolled": false
   },
   "outputs": [
    {
     "data": {
      "image/png": "[encoded data removed]",
      "text/plain": [
       "<Figure size 1008x432 with 2 Axes>"
      ]
     },
     "metadata": {
      "needs_background": "light"
     },
     "output_type": "display_data"
    }
   ],
   "source": [
    "# polynomial features for hours\n",
    "\n",
    "# inputs\n",
    "x = X_train.loc[:,[\"HOURS\"]]\n",
    "x[\"HOURS2\"] = x[\"HOURS\"]**2\n",
    "\n",
    "# model \n",
    "linreg_h2 = LinearRegression()\n",
    "linreg_h2.fit(x, y_train)\n",
    "scores_h2 = cross_val_score(linreg_h2, x, y_train, cv=5, scoring='neg_mean_squared_error')\n",
    "\n",
    "# plot\n",
    "plt.figure(figsize=(14,6))\n",
    "\n",
    "plt.subplot(1,2,1)\n",
    "samp = df.sample(300)\n",
    "plt.title(\"Delay versus Hours\", fontweight=\"bold\", size = 18)\n",
    "plt.scatter(x=\"HOURS\", y=\"ARR_DELAY\", data=samp, alpha = 0.5)   #, order = top2bot\n",
    "u = np.linspace(0,22,5)\n",
    "plt.plot(u,(u**2)*linreg_h2.coef_[1]+u*linreg_h2.coef_[0]+linreg_h2.intercept_, c=\"red\", label=\"linear fit\")\n",
    "plt.ylim(0,30)\n",
    "plt.xlim(5,23)\n",
    "\n",
    "plt.subplot(1,2,2)\n",
    "plt.title(\"Delay versus Hours\", fontweight=\"bold\", size = 18)\n",
    "sns.boxplot(x=\"HOURS\", y=\"ARR_DELAY\", data=df,showmeans=True, whis=\"range\")   #, order = top2bot\n",
    "plt.ylim(0,30)\n",
    "plt.plot(u,((u+5)**2)*linreg_h2.coef_[1]+(u+5)*linreg_h2.coef_[0]+linreg_h2.intercept_, c=\"red\", label=\"linear fit\")\n",
    "\n",
    "plt.show()"
   ]
  },
  {
   "cell_type": "code",
   "execution_count": 16,
   "metadata": {},
   "outputs": [
    {
     "name": "stdout",
     "output_type": "stream",
     "text": [
      "Input features:\t\t\t h \t h2\n",
      "Root Mean Squared Error (RMSE):\t 18.5 \t 18.5 \t\n"
     ]
    }
   ],
   "source": [
    "# RMSE with Kflod on hours and poly(hours)\n",
    "\n",
    "# hours\n",
    "X_h_train = X_train.loc[:,[\"HOURS\"]]   ## Winter not here it will be the reference\n",
    "X_h_test = X_test.loc[:,[\"HOURS\"]]\n",
    "linreg_h = LinearRegression()\n",
    "scores_h = cross_val_score(linreg_h, X_h_train, y_train, cv=5, scoring='neg_mean_squared_error')\n",
    "\n",
    "print(\"Input features:\\t\\t\\t h \\t h2\")\n",
    "print(\"Root Mean Squared Error (RMSE):\\t\",round(((-scores_h)**0.5).mean(),2),\"\\t\",\n",
    "                                          round(((-scores_h2)**0.5).mean(),2),\"\\t\")"
   ]
  },
  {
   "cell_type": "markdown",
   "metadata": {},
   "source": [
    "It seems that even if the fit seems slightly better on the average, there is no reduction of the RMSE. We will continue with all features (without polynomial feature)."
   ]
  },
  {
   "cell_type": "markdown",
   "metadata": {},
   "source": [
    "## 2.3 Ridge regression"
   ]
  },
  {
   "cell_type": "code",
   "execution_count": 17,
   "metadata": {},
   "outputs": [
    {
     "data": {
      "text/plain": [
       "GridSearchCV(cv=5, error_score='raise-deprecating',\n",
       "       estimator=Ridge(alpha=1.0, copy_X=True, fit_intercept=True, max_iter=None,\n",
       "   normalize=False, random_state=None, solver='auto', tol=0.001),\n",
       "       fit_params=None, iid='warn', n_jobs=None,\n",
       "       param_grid={'alpha': array([1.00000e-05, 7.35642e-05, 5.41170e-04, 3.98107e-03, 2.92864e-02,\n",
       "       2.15443e-01, 1.58489e+00, 1.16591e+01, 8.57696e+01, 6.30957e+02,\n",
       "       4.64159e+03, 3.41455e+04, 2.51189e+05, 1.84785e+06, 1.35936e+07,\n",
       "       1.00000e+08])},\n",
       "       pre_dispatch='2*n_jobs', refit=True, return_train_score='warn',\n",
       "       scoring='neg_mean_squared_error', verbose=0)"
      ]
     },
     "execution_count": 17,
     "metadata": {},
     "output_type": "execute_result"
    }
   ],
   "source": [
    "from sklearn.linear_model import Ridge\n",
    "from sklearn.model_selection import GridSearchCV \n",
    "\n",
    "ridgreg = Ridge()\n",
    "param_grid = {\"alpha\": np.logspace(-5, 8, 16)}  # different alpha we want to test\n",
    "grid = GridSearchCV(ridgreg, param_grid, cv=5, scoring= \"neg_mean_squared_error\")\n",
    "grid.fit(X_all_train, y_train)"
   ]
  },
  {
   "cell_type": "code",
   "execution_count": 18,
   "metadata": {
    "scrolled": false
   },
   "outputs": [
    {
     "data": {
      "image/png": "[encoded data removed]",
      "text/plain": [
       "<Figure size 432x288 with 1 Axes>"
      ]
     },
     "metadata": {
      "needs_background": "light"
     },
     "output_type": "display_data"
    }
   ],
   "source": [
    "# results Ridge: alpha values versus RMSE\n",
    "\n",
    "# inputs\n",
    "alpha = grid.cv_results_['param_alpha'].data\n",
    "RMSE = (-grid.cv_results_['mean_test_score'])**0.5\n",
    "\n",
    "# plot\n",
    "ax = plt.gca()\n",
    "plt.title(\"Ridge RMSE versus alha parameters\", fontweight=\"bold\", size = 18)\n",
    "ax.plot(alpha, RMSE)\n",
    "ax.set_xscale('log')\n",
    "plt.xlabel('alpha', size = 16)\n",
    "plt.ylabel('RMSE [minutes]', size = 16)\n",
    "plt.axis('tight')\n",
    "plt.show()"
   ]
  },
  {
   "cell_type": "markdown",
   "metadata": {},
   "source": [
    "Since there is no RMSE below RMSE(alpha=0), Ridge regression does not improve (reduce the error) compared to the first standard linear model (alpha = 0)."
   ]
  },
  {
   "cell_type": "markdown",
   "metadata": {},
   "source": [
    "## 2.4 Lasso regression\n",
    "Let's have the same approch with Lasso regression."
   ]
  },
  {
   "cell_type": "code",
   "execution_count": 19,
   "metadata": {},
   "outputs": [],
   "source": [
    "from sklearn.linear_model import Lasso\n",
    "\n",
    "lasso = Lasso()\n",
    "param_grid = {\"alpha\": np.logspace(-5, 8, 16)}  # different alpha we want to test\n",
    "grid = GridSearchCV(lasso, param_grid, cv=5, scoring= \"neg_mean_squared_error\")\n",
    "grid.fit(X_all_train, y_train)\n",
    "alpha = grid.cv_results_['param_alpha'].data\n",
    "RMSE = (-grid.cv_results_['mean_test_score'])**0.5"
   ]
  },
  {
   "cell_type": "code",
   "execution_count": 20,
   "metadata": {},
   "outputs": [
    {
     "data": {
      "image/png": "[encoded data removed]",
      "text/plain": [
       "<Figure size 432x288 with 1 Axes>"
      ]
     },
     "metadata": {
      "needs_background": "light"
     },
     "output_type": "display_data"
    }
   ],
   "source": [
    "# results Lasso: alpha values versus RMSE\n",
    "\n",
    "# plot\n",
    "ax = plt.gca()\n",
    "plt.title(\"Lasso RMSE versus alha parameters\", fontweight=\"bold\", size = 18)\n",
    "ax.plot(alpha, RMSE)\n",
    "ax.set_xscale('log')\n",
    "plt.xlabel('alpha', size = 16)\n",
    "plt.ylabel('RMSE [minutes]', size = 16)\n",
    "plt.axis('tight')\n",
    "plt.show()"
   ]
  },
  {
   "cell_type": "markdown",
   "metadata": {},
   "source": [
    "As the ridge regression, the Lasso regression does not reduce the Errorc compare to the standard model."
   ]
  },
  {
   "cell_type": "markdown",
   "metadata": {},
   "source": [
    "## 2.5 model export\n",
    "Neither Ridge or Lasso show improvement. We choose to save the \"simple\" linear model with all features."
   ]
  },
  {
   "cell_type": "code",
   "execution_count": 22,
   "metadata": {},
   "outputs": [
    {
     "name": "stdout",
     "output_type": "stream",
     "text": [
      "RMSE of the linear model with all feature on the test set is 18.3 minutes\n"
     ]
    }
   ],
   "source": [
    "# RMSE with the test set\n",
    "from sklearn.metrics import mean_squared_error\n",
    "y_pred = linreg_all.predict(X_all_test)\n",
    "score =  mean_squared_error(y_test, y_pred)\n",
    "print(\"RMSE of the linear model with all feature on the test set is {} minutes\".format(round((score**0.5),1)))"
   ]
  },
  {
   "cell_type": "code",
   "execution_count": 19,
   "metadata": {},
   "outputs": [
    {
     "data": {
      "text/plain": [
       "['linearM_airline_delay.gz']"
      ]
     },
     "execution_count": 19,
     "metadata": {},
     "output_type": "execute_result"
    }
   ],
   "source": [
    "import joblib as job    # lib to import/export python objects\n",
    "job.dump(linreg_all, \"linearM_airline_delay.gz\")"
   ]
  }
 ],
 "metadata": {
  "kernelspec": {
   "display_name": "Python 3",
   "language": "python",
   "name": "python3"
  },
  "language_info": {
   "codemirror_mode": {
    "name": "ipython",
    "version": 3
   },
   "file_extension": ".py",
   "mimetype": "text/x-python",
   "name": "python",
   "nbconvert_exporter": "python",
   "pygments_lexer": "ipython3",
   "version": "3.7.0"
  }
 },
 "nbformat": 4,
 "nbformat_minor": 2
}
